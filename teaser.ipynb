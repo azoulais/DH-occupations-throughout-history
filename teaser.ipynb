{
 "cells": [
  {
   "cell_type": "code",
   "execution_count": 1,
   "outputs": [],
   "source": [
    "from qwikidata.sparql import (get_subclasses_of_item,\n",
    "                              return_sparql_query_results)\n",
    "from qwikidata.entity import WikidataItem, WikidataLexeme, WikidataProperty\n",
    "from qwikidata.linked_data_interface import get_entity_dict_from_api\n",
    "from matplotlib_venn import venn2, venn2_circles, venn2_unweighted\n",
    "from matplotlib_venn import venn3, venn3_circles\n",
    "from matplotlib import pyplot as plt\n",
    "%matplotlib inline"
   ],
   "metadata": {
    "collapsed": false,
    "pycharm": {
     "name": "#%%\n"
    }
   }
  },
  {
   "cell_type": "markdown",
   "source": [
    "Asking for all documented mathematicians:"
   ],
   "metadata": {
    "collapsed": false,
    "pycharm": {
     "name": "#%% md\n"
    }
   }
  },
  {
   "cell_type": "code",
   "execution_count": 2,
   "outputs": [],
   "source": [
    "sparql_query = \"\"\"\n",
    "SELECT ?item ?itemLabel\n",
    "WHERE\n",
    "{\n",
    "  ?item wdt:P106 wd:Q170790. # Occupation(P106) of mathematician(Q170790)\n",
    "  SERVICE wikibase:label { bd:serviceParam wikibase:language \"[AUTO_LANGUAGE],en\". } # Helps get the label in your language, if not, then en language\n",
    "}\n",
    "\"\"\"\n",
    "res_math = return_sparql_query_results(sparql_query)"
   ],
   "metadata": {
    "collapsed": false,
    "pycharm": {
     "name": "#%%\n"
    }
   }
  },
  {
   "cell_type": "markdown",
   "source": [
    "Asking for all documented philosophers:"
   ],
   "metadata": {
    "collapsed": false,
    "pycharm": {
     "name": "#%% md\n"
    }
   }
  },
  {
   "cell_type": "code",
   "execution_count": 3,
   "outputs": [],
   "source": [
    "sparql_query = \"\"\"\n",
    "SELECT ?item ?itemLabel\n",
    "WHERE\n",
    "{\n",
    "  ?item wdt:P106 wd:Q4964182. # Occupation(P106) of philosopher(Q4964182)\n",
    "  SERVICE wikibase:label { bd:serviceParam wikibase:language \"[AUTO_LANGUAGE],en\". } # Helps get the label in your language, if not, then en language\n",
    "}\n",
    "\"\"\"\n",
    "res_phil = return_sparql_query_results(sparql_query)"
   ],
   "metadata": {
    "collapsed": false,
    "pycharm": {
     "name": "#%%\n"
    }
   }
  },
  {
   "cell_type": "markdown",
   "source": [
    "Asking for the intersection between all documented mathematicians and philosophers:"
   ],
   "metadata": {
    "collapsed": false,
    "pycharm": {
     "name": "#%% md\n"
    }
   }
  },
  {
   "cell_type": "code",
   "execution_count": 4,
   "outputs": [],
   "source": [
    "sparql_query = \"\"\"\n",
    "SELECT ?item ?itemLabel\n",
    "WHERE{\n",
    "{\n",
    "  ?item wdt:P106 wd:Q4964182. # Occupation(P106) of philosopher(Q4964182)\n",
    "  # SERVICE wikibase:label { bd:serviceParam wikibase:language \"[AUTO_LANGUAGE],en\". } # Helps get the label in your language, if not, then en language\n",
    "}\n",
    "{\n",
    "  ?item wdt:P106 wd:Q170790. # Occupation(P106) of mathematician(Q170790)\n",
    "  # SERVICE wikibase:label { bd:serviceParam wikibase:language \"[AUTO_LANGUAGE],en\". } # Helps get the label in your language, if not, then en language\n",
    "}}\n",
    "\"\"\"\n",
    "res_math_phil = return_sparql_query_results(sparql_query)"
   ],
   "metadata": {
    "collapsed": false,
    "pycharm": {
     "name": "#%%\n"
    }
   }
  },
  {
   "cell_type": "code",
   "execution_count": 8,
   "outputs": [
    {
     "data": {
      "text/plain": "<Figure size 432x288 with 1 Axes>",
      "image/png": "[encoded data removed]"
     },
     "metadata": {},
     "output_type": "display_data"
    },
    {
     "name": "stdout",
     "output_type": "stream",
     "text": [
      "In WikiData there are documented:\n",
      "    9763358 Humans\n",
      "    30489 Mathematicians (0.312% of all humans)\n",
      "    25501 Philosophers (0.261% of all humans)\n",
      "    826 Mathematicians who were philosophers (1.497% of all mathematicians and philosophers)\n"
     ]
    }
   ],
   "source": [
    "num_of_humans=9763358       #taken manually due to a heavy query\n",
    "num_of_maths=len(res_math['results']['bindings'])\n",
    "num_of_philos=len(res_phil['results']['bindings'])\n",
    "num_of_maths_philos=len(res_math_phil['results']['bindings'])\n",
    "\n",
    "venn2(subsets = (num_of_maths, num_of_philos, num_of_maths_philos), set_labels = ('Mathematicians', 'Philosophers'))\n",
    "plt.show()\n",
    "\n",
    "print(\"In WikiData there are documented:\")\n",
    "print(f\"    {num_of_humans} Humans\")\n",
    "print(f\"    {num_of_maths} Mathematicians ({format(num_of_maths/num_of_humans*100,'.3f')}% of all humans)\")\n",
    "print(f\"    {num_of_philos} Philosophers ({format(num_of_philos/num_of_humans*100,'.3f')}% of all humans)\")\n",
    "print(f\"    {num_of_maths_philos} Mathematicians who were philosophers ({format(num_of_maths_philos/(num_of_maths+num_of_philos-num_of_maths_philos)*100,'.3f')}% of all mathematicians and philosophers)\")\n",
    "\n"
   ],
   "metadata": {
    "collapsed": false,
    "pycharm": {
     "name": "#%%\n"
    }
   }
  }
 ],
 "metadata": {
  "kernelspec": {
   "display_name": "Python 3",
   "language": "python",
   "name": "python3"
  },
  "language_info": {
   "codemirror_mode": {
    "name": "ipython",
    "version": 2
   },
   "file_extension": ".py",
   "mimetype": "text/x-python",
   "name": "python",
   "nbconvert_exporter": "python",
   "pygments_lexer": "ipython2",
   "version": "2.7.6"
  }
 },
 "nbformat": 4,
 "nbformat_minor": 0
}